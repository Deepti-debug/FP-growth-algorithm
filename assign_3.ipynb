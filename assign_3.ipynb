{
 "cells": [
  {
   "cell_type": "code",
   "execution_count": 1,
   "metadata": {},
   "outputs": [],
   "source": [
    "import pandas as pd\n",
    "#For testing\n",
    "import pyfpgrowth"
   ]
  },
  {
   "cell_type": "code",
   "execution_count": 2,
   "metadata": {},
   "outputs": [],
   "source": [
    "\n",
    "#Dummy dataframe for coding FP Growth\n",
    "df = pd.DataFrame()\n",
    "df['id'] = [100, 200, 300, 400, 500]\n",
    "df['itemls'] = [['f', 'a', 'c', 'd', 'g', 'i', 'm', 'p'], ['a', 'b', 'c', 'f', 'l', 'm', 'o'],['b', 'f', 'h', 'j', 'o'], \\\n",
    "               ['b', 'c', 'k', 's', 'p'],['a', 'f', 'c', 'e', 'l', 'p', 'm', 'n']]\n",
    "data = {100:['f', 'a', 'c', 'd', 'g', 'i', 'm', 'p'], 200:['a', 'b', 'c', 'f', 'l', 'm', 'o'], 300:['b', 'f', 'h', 'j', 'o'], \\\n",
    "        400:['b', 'c', 'k', 's', 'p'], 500:['a', 'f', 'c', 'e', 'l', 'p', 'm', 'n']}"
   ]
  },
  {
   "cell_type": "code",
   "execution_count": 3,
   "metadata": {},
   "outputs": [],
   "source": [
    "from collections import deque \n",
    "\n",
    "def traversetree(root):\n",
    "    queue = deque([(root, root, 0)])\n",
    "    while queue:\n",
    "        parent_node, node, level = queue.popleft()\n",
    "        print(f\"{level = }\")\n",
    "        print(f\"Parent: {parent_node.item}, Parent count: {parent_node.count}, Data: {node.item}, Count: {node.count}\")\n",
    "        for node_name in node.children:\n",
    "            queue.append((node, node.children[node_name], level + 1))\n",
    "\n",
    "def traverseheader(header_table):\n",
    "    for key in header_table.keys():\n",
    "        node = header_table[key]\n",
    "        while node is not None:\n",
    "            print(f\"Header item: {key}, Link data: {node.item}, Link count: {node.count}\")\n",
    "            node = node.link "
   ]
  },
  {
   "cell_type": "code",
   "execution_count": 4,
   "metadata": {},
   "outputs": [
    {
     "name": "stdout",
     "output_type": "stream",
     "text": [
      "frequent_patterns = [(['b'], 3), (['a'], 3), (['a', 'c'], 3), (['a', 'c', 'f'], 3), (['a', 'c', 'f', 'm'], 3), (['a', 'c', 'm'], 3), (['a', 'f'], 3), (['a', 'f', 'm'], 3), (['a', 'm'], 3), (['m'], 3), (['m', 'c'], 3), (['m', 'c', 'f'], 3), (['m', 'f'], 3), (['p'], 3), (['p', 'c'], 3), (['c'], 4), (['c', 'f'], 3), (['f'], 4)]\n"
     ]
    }
   ],
   "source": [
    "#Global variable\n",
    "id = 0\n",
    "class Node:\n",
    "    def __init__(self, item, count, parent):\n",
    "        self.item = item           # Item value\n",
    "        self.count = count         # Support count of the itemset\n",
    "        self.parent = parent       # Parent node\n",
    "        self.children = {}         # Children nodes (item: Node)\n",
    "        self.link = None \n",
    "\n",
    "class FPGrowth:\n",
    "    def __init__(self, data, minsup):\n",
    "        self.data = data\n",
    "\n",
    "    \n",
    "    def find_frequent_items(self,data, minsup):\n",
    "        header_table = {}\n",
    "        for _, item_ls in data.items():\n",
    "            for item in item_ls:\n",
    "                header_table[item] = header_table.get(item, 0) + 1\n",
    "        \n",
    "        #Sort the dictionary\n",
    "        # print(f\"Before sorting {header_table = }\")\n",
    "        header_table = {k: v for k, v in sorted(header_table.items(), key=lambda item: (item[1], item[0]), reverse=True)}\n",
    "        # print(f\"After sorting {header_table = }\")\n",
    "        header_table = {k:-1 for k,v in header_table.items() if v>minsup}\n",
    "        self.l = [*header_table.keys()]\n",
    "        return header_table \n",
    "    \n",
    "    #Constructing an FPTree\n",
    "    def construct_fptree(self, data, header_table):\n",
    "        root = Node(None,0,None)\n",
    "        for _, transaction in data.items():\n",
    "            ordered_transaction = [item for item in transaction if item in self.l]\n",
    "            ordered_transaction.sort(key = lambda x:self.l.index(x))\n",
    "            current_node = root\n",
    "            # print(f\"{ordered_transaction = }\")\n",
    "            for item in ordered_transaction:\n",
    "                if item in current_node.children:\n",
    "                    #Update the count of the already existing node\n",
    "                    child_node = current_node.children[item]\n",
    "                    child_node.count += 1\n",
    "                else:\n",
    "                    #Create a new node \n",
    "                    child_node = Node(item, 1, current_node)\n",
    "                    current_node.children[item] = child_node\n",
    "                    #Update header table\n",
    "                    if item in header_table: #Why does this exist?\n",
    "                        if header_table[item] == -1:\n",
    "                            header_table[item] = child_node\n",
    "                        else:\n",
    "                            header_node = header_table[item]\n",
    "                            while header_node.link is not None:\n",
    "                                header_node =  header_node.link\n",
    "                            header_node.link = child_node \n",
    "                current_node = child_node \n",
    "        return root, header_table\n",
    "\n",
    "    #Mining an FPTree\n",
    "    def mine_frequent_patterns(self, header_table, min_support, prefix=[]):\n",
    "        global id\n",
    "        frequent_patterns = []\n",
    "        # Sort items in header table in descending order of frequency\n",
    "        sorted_items = [item for item in header_table.keys()]\n",
    "        sorted_items.sort(key=lambda x: (header_table[x].count, x))\n",
    "        for item in sorted_items:\n",
    "            new_prefix = prefix + [item]\n",
    "            support = 0\n",
    "            # Build the conditional pattern base\n",
    "            conditional_dataset = {}\n",
    "            node = header_table[item]\n",
    "            while node is not None:\n",
    "                count = node.count\n",
    "                support += count \n",
    "                path = []\n",
    "                current_node = node.parent\n",
    "                while current_node.parent is not None:\n",
    "                    path.append(current_node.item)\n",
    "                    current_node = current_node.parent\n",
    "                for _ in range(count):\n",
    "                    conditional_dataset[id] = path\n",
    "                    id += 1\n",
    "                node = node.link\n",
    "            frequent_patterns.append((new_prefix, support))\n",
    " \n",
    "            \n",
    "            # Recursively mine the conditional FP-tree\n",
    "            conditional_header_table = self.find_frequent_items(conditional_dataset, min_support)\n",
    "            root, conditional_header_table = self.construct_fptree(conditional_dataset, conditional_header_table)\n",
    "            # print(f\"Conditional prefix tree for prefix: {new_prefix}\")\n",
    "            # traversetree(root)\n",
    "            # print()\n",
    "            if conditional_header_table:\n",
    "                frequent_patterns.extend(self.mine_frequent_patterns(conditional_header_table, min_support, new_prefix))\n",
    "  \n",
    "        return frequent_patterns\n",
    "        \n",
    "\n",
    "minsup = 2\n",
    "FPGrowth_obj = FPGrowth(data, minsup)\n",
    "header_table = FPGrowth_obj.find_frequent_items(data,minsup)\n",
    "root, header_table = FPGrowth_obj.construct_fptree(data, header_table)\n",
    "frequent_patterns = FPGrowth_obj.mine_frequent_patterns(header_table, minsup, [])\n",
    "print(f\"{frequent_patterns = }\")\n",
    "#For debugging\n",
    "# traversetree(root)\n",
    "# traverseheader(header_table)"
   ]
  },
  {
   "cell_type": "code",
   "execution_count": 5,
   "metadata": {},
   "outputs": [
    {
     "name": "stdout",
     "output_type": "stream",
     "text": [
      "patterns = {('a', 'c'): 3, ('a', 'f'): 3, ('a', 'm'): 3, ('c', 'm'): 3, ('a', 'c', 'm'): 3, ('f', 'm'): 3, ('a', 'f', 'm'): 3, ('p',): 3, ('c', 'p'): 3, ('b',): 3, ('f',): 4, ('c',): 4}\n"
     ]
    }
   ],
   "source": [
    "#Testing with in-built python package\n",
    "transactions = [['f', 'a', 'c', 'd', 'g', 'i', 'm', 'p'], ['a', 'b', 'c', 'f', 'l', 'm', 'o'],['b', 'f', 'h', 'j', 'o'], \\\n",
    "               ['b', 'c', 'k', 's', 'p'],['a', 'f', 'c', 'e', 'l', 'p', 'm', 'n']]\n",
    "patterns = pyfpgrowth.find_frequent_patterns(transactions, 3)\n",
    "print(f\"{patterns = }\")"
   ]
  },
  {
   "cell_type": "code",
   "execution_count": 6,
   "metadata": {},
   "outputs": [],
   "source": [
    "\n",
    "frequent_patterns  = [(['b'], 3), (['a'], 3), (['a', 'c'], 3), (['a', 'c', 'f'], 3), (['a', 'c', 'f', 'm'], 3), (['a', 'c', 'm'], 3), (['a', 'f'], 3), (['a', 'f', 'm'], 3), (['a', 'm'], 3), (['m'], 3), (['m', 'c'], 3), (['m', 'c', 'f'], 3), (['m', 'f'], 3), (['p'], 3), (['p', 'c'], 3), (['c'], 4), (['c', 'f'], 3), (['f'], 4)]\n",
    "patterns = {('a', 'c'): 3, ('a', 'f'): 3, ('a', 'm'): 3, ('c', 'm'): 3, ('a', 'c', 'm'): 3, ('f', 'm'): 3, ('a', 'f', 'm'): 3, ('p',): 3, ('c', 'p'): 3, ('b',): 3, ('f',): 4, ('c',): 4}"
   ]
  }
 ],
 "metadata": {
  "kernelspec": {
   "display_name": "dlenv",
   "language": "python",
   "name": "python3"
  },
  "language_info": {
   "codemirror_mode": {
    "name": "ipython",
    "version": 3
   },
   "file_extension": ".py",
   "mimetype": "text/x-python",
   "name": "python",
   "nbconvert_exporter": "python",
   "pygments_lexer": "ipython3",
   "version": "3.11.4"
  },
  "orig_nbformat": 4
 },
 "nbformat": 4,
 "nbformat_minor": 2
}
